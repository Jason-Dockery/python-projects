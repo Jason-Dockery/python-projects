{
 "cells": [
  {
   "cell_type": "code",
   "execution_count": 2,
   "metadata": {},
   "outputs": [
    {
     "name": "stdout",
     "output_type": "stream",
     "text": [
      "*\n",
      "\n",
      "***\n",
      "\n",
      "*****\n"
     ]
    }
   ],
   "source": [
    "# Excercise 1.1\n",
    "\n",
    "x=3\n",
    "\n",
    "while x>2:\n",
    "    print(\"*\\n\")\n",
    "    print(\"***\\n\")\n",
    "    print(\"*****\")\n",
    "    break\n"
   ]
  },
  {
   "cell_type": "code",
   "execution_count": 12,
   "metadata": {},
   "outputs": [
    {
     "name": "stdout",
     "output_type": "stream",
     "text": [
      "('The negative root of the quadratic equation=', -23.0)\n",
      "\n",
      "\n",
      "('The positive root of the quadratic equation=', -17.0)\n"
     ]
    }
   ],
   "source": [
    "# Excercise 1.2\n",
    "\n",
    "import math \n",
    "\n",
    "a=1\n",
    "b=40\n",
    "c=391\n",
    "\n",
    "x=(-b - math.sqrt(b**2-4*a*c)) / 2*a\n",
    "print (\"The negative root of the quadratic equation =\", x)\n",
    "\n",
    "x=(-b + math.sqrt(b**2-4*a*c)) / 2*a\n",
    "print(\"\\n\")\n",
    "print (\"The positive root of the quadratic equation =\", x)"
   ]
  },
  {
   "cell_type": "code",
   "execution_count": 16,
   "metadata": {},
   "outputs": [
    {
     "name": "stdout",
     "output_type": "stream",
     "text": [
      "What will be the value for x?\t15\n",
      "What will be the value for y?\t10\n",
      "('((x+y)/(x-y))=', 5)\n",
      "('(x-y)**3=', 125)\n",
      "('The last digit of x+y=', 5)\n"
     ]
    }
   ],
   "source": [
    "# Excercise 1.3\n",
    "\n",
    "x=input(\"What will be the value for x?\\t\")\n",
    "y=input(\"What will be the value for y?\\t\")\n",
    "\n",
    "print (\"((x+y)/(x-y))=\", ((x+y)/(x-y)))\n",
    "\n",
    "print (\"(x-y)**3=\", (x-y)**3)\n",
    "\n",
    "print (\"The last digit of x+y is:\", (x+y)%10)"
   ]
  },
  {
   "cell_type": "code",
   "execution_count": 23,
   "metadata": {},
   "outputs": [
    {
     "name": "stdout",
     "output_type": "stream",
     "text": [
      "Rock, Paper, or Scissors?:\tRock\n",
      "Rock, Paper, or Scissors?:\tRock\n",
      "Tie!\n"
     ]
    }
   ],
   "source": [
    "# Excercise 1.4\n",
    "\n",
    "p1=raw_input(\"Player #1: Rock, Paper, or Scissors?:\\t\")\n",
    "p2=raw_input(\"Player #2: Rock, Paper, or Scissors?:\\t\")\n",
    "\n",
    "if p1== \"Rock\":\n",
    "    if p2== \"Paper\":\n",
    "        print(\"Player #2 Wins!\")\n",
    "    if p2== \"Scissors\":\n",
    "        print(\"Player #1 Wins!\")\n",
    "    if p2== \"Rock\":\n",
    "        print(\"It's a tie!\")\n",
    "        \n",
    "elif p1== \"Paper\":\n",
    "    if p2== \"Scissors\":\n",
    "        print(\"Player #2 Wins!\") \n",
    "    if p2== \"Rock\":\n",
    "        print(\"Player #1 Wins!\")\n",
    "    if p2== \"Paper\":\n",
    "        print(\"It's a tie!\")\n",
    "        \n",
    "elif p1== \"Scissors\":\n",
    "    if p2== \"Paper\":\n",
    "        print(\"Player #1 Wins!\")\n",
    "    if p2== \"Rock\":\n",
    "        print(\"Player #2 Wins!\")\n",
    "    if p2== \"Scissors\":\n",
    "        print(\"It's a tie!\")\n",
    "        \n",
    "else: print(\"Invalid input\")"
   ]
  },
  {
   "cell_type": "code",
   "execution_count": 2,
   "metadata": {},
   "outputs": [
    {
     "name": "stdout",
     "output_type": "stream",
     "text": [
      "What is the tempurature?:\t20\n",
      "Is this tempurature in Celsius or Fahrenheit?:\tF\n",
      "(68, '*F is equal to', -7, '* Celsius')\n"
     ]
    }
   ],
   "source": [
    "# Excercise 1.5\n",
    "\n",
    "intt=int(raw_input(\"What is the tempurature?:\\t\"))\n",
    "degname=raw_input(\"Is this tempurature in Celsius or Fahrenheit?:\\t\")\n",
    "\n",
    "c=(intt-32)*5/9\n",
    "f=(intt*9/5)+32\n",
    "\n",
    "if degname==\"C\":\n",
    "    print(c,\"*C is equal to\", f,\"* Fahrenheit\")\n",
    "\n",
    "if degname==\"F\":\n",
    "    print(f,\"*F is equal to\", c,\"* Celsius\")\n",
    "        \n",
    "else: print(\"Invaild Tempurature\")"
   ]
  },
  {
   "cell_type": "code",
   "execution_count": null,
   "metadata": {},
   "outputs": [],
   "source": []
  }
 ],
 "metadata": {
  "kernelspec": {
   "display_name": "Python 3",
   "language": "python",
   "name": "python3"
  },
  "language_info": {
   "codemirror_mode": {
    "name": "ipython",
    "version": 2
   },
   "file_extension": ".py",
   "mimetype": "text/x-python",
   "name": "python",
   "nbconvert_exporter": "python",
   "pygments_lexer": "ipython2",
   "version": "2.7.17"
  }
 },
 "nbformat": 4,
 "nbformat_minor": 2
}

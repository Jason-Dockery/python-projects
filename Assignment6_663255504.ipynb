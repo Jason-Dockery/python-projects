{
 "cells": [
  {
   "cell_type": "code",
   "execution_count": 5,
   "metadata": {},
   "outputs": [
    {
     "name": "stdout",
     "output_type": "stream",
     "text": [
      "[[ 9847.87830264]\n",
      " [10053.04243395]]\n",
      "\n",
      " $ 9847\n"
     ]
    }
   ],
   "source": [
    "#) Question #1\n",
    "\n",
    "import numpy as np\n",
    "\n",
    "a = np.array([[0.02,1.0],[1.0,0.04]])\n",
    "b = np.array([[10250.0],[10250.0]])\n",
    "\n",
    "x = np.linalg.solve(a, b)\n",
    "\n",
    "print(x)\n",
    "\n",
    "p = np.trace(x)\n",
    "\n",
    "print(\"\\n $\", int(p))"
   ]
  },
  {
   "cell_type": "code",
   "execution_count": 16,
   "metadata": {},
   "outputs": [
    {
     "data": {
      "image/png": "[encoded data removed]",
      "text/plain": [
       "<Figure size 432x288 with 1 Axes>"
      ]
     },
     "metadata": {
      "needs_background": "light"
     },
     "output_type": "display_data"
    }
   ],
   "source": [
    "#) Question #2\n",
    "\n",
    "from numpy import *\n",
    "from pylab import *\n",
    "from scipy.stats import *\n",
    "\n",
    "a = np.array([3420,3400,3250,3410,3190,3250,2860,2830,3160,2820,2780,2900,2810,2580,2520,2430])\n",
    "b = np.array([127,134,136,139,140,141,148,149,151,154,155,157,159,167,168,171])\n",
    "\n",
    "slope, intercept, r_value, p_value, slope_std_error = stats.linregress(a,b)\n",
    "\n",
    "y_model = a * slope + intercept\n",
    "\n",
    "plot(a, b, 'ob', markersize = 2)\n",
    "plot(a, y_model, '-r', linewidth = 1)\n",
    "show()"
   ]
  },
  {
   "cell_type": "code",
   "execution_count": 15,
   "metadata": {},
   "outputs": [],
   "source": [
    "#) Question #3"
   ]
  },
  {
   "cell_type": "code",
   "execution_count": 17,
   "metadata": {},
   "outputs": [],
   "source": [
    "#) Question #4"
   ]
  }
 ],
 "metadata": {
  "kernelspec": {
   "display_name": "Python 3",
   "language": "python",
   "name": "python3"
  },
  "language_info": {
   "codemirror_mode": {
    "name": "ipython",
    "version": 3
   },
   "file_extension": ".py",
   "mimetype": "text/x-python",
   "name": "python",
   "nbconvert_exporter": "python",
   "pygments_lexer": "ipython3",
   "version": "3.8.3"
  }
 },
 "nbformat": 4,
 "nbformat_minor": 4
}

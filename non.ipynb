{
 "cells": [
  {
   "cell_type": "code",
   "execution_count": null,
   "metadata": {},
   "outputs": [],
   "source": [
    "def show_functions():\n",
    "    print(\"1. generate\")\n",
    "    print(\"2. calc\")\n",
    "\n",
    "def gen_stats(stock):\n",
    "    sum=0;\n",
    "    for prod in stock:\n",
    "        sum=sum+stock[prod]\n",
    "    print sum\n",
    "\n",
    "def update_stock(stock,prod,num):\n",
    "    if prod in stock:\n",
    "        stock[prod]=stock[prod]+int(num)\n",
    "    else:\n",
    "        stock[prod]=int(num)\n",
    "\n",
    "\n",
    "stock=dict()\n",
    "while(True):\n",
    "    print \"\\n\" + \"Enter \\\"show\\\" to show available functions\" + \"\\n\"\n",
    "    print \"Enter \\\"stats\\\" to show statistics\" + \"\\n\"\n",
    "    print \"Enter \\\"update\\\" to update stock dictionary\" + \"\\n\"\n",
    "    option=raw_input(\"Enter Option: \")\n",
    "\n",
    "    if option==\"show\":\n",
    "        show_functions()\n",
    "    elif option==\"stats\":\n",
    "        gen_stats(stock)\n",
    "    elif option==\"update\":\n",
    "        prod=raw_input(\"\\n\"+\"Enter product name: \")\n",
    "        num=raw_input(\"\\n\"+\"Enter product number: \")\n",
    "        update_stock(stock,prod,num)\n",
    "        "
   ]
  },
  {
   "cell_type": "code",
   "execution_count": 2,
   "metadata": {},
   "outputs": [
    {
     "name": "stdout",
     "output_type": "stream",
     "text": [
      "\tHey Ho\n",
      ":\n"
     ]
    }
   ],
   "source": [
    "x = input=(\"\\t\" + \"Hey Ho\" + \"\\n\" + \":\")\n",
    "print(x)"
   ]
  },
  {
   "cell_type": "code",
   "execution_count": 17,
   "metadata": {},
   "outputs": [
    {
     "name": "stdout",
     "output_type": "stream",
     "text": [
      "1 or 2?: 4\n",
      "What?\n"
     ]
    }
   ],
   "source": [
    "a = raw_input(\"1 or 2?: \")   \n",
    "\n",
    "if a == \"1\":\n",
    "    print(\"One\")\n",
    "elif a == \"2\":\n",
    "    print(\"Two\")\n",
    "else:\n",
    "    print(\"What?\")"
   ]
  },
  {
   "cell_type": "code",
   "execution_count": 22,
   "metadata": {},
   "outputs": [
    {
     "name": "stdout",
     "output_type": "stream",
     "text": [
      "Would you like to try again? \n",
      "\n",
      "\t Yes or No?: N\n",
      "B\n"
     ]
    }
   ],
   "source": [
    "def bec():\n",
    "    opt = raw_input(\"Would you like to try again? \\n\\n\\t Yes or No?: \")\n",
    "\n",
    "    if opt == \"Y\":\n",
    "        print(\"A\")\n",
    "\n",
    "    elif opt == \"N\":\n",
    "        print(\"B\")\n",
    "\n",
    "    else: \n",
    "        print(\"C\")\n",
    "bec()"
   ]
  },
  {
   "cell_type": "code",
   "execution_count": null,
   "metadata": {},
   "outputs": [],
   "source": []
  },
  {
   "cell_type": "code",
   "execution_count": null,
   "metadata": {},
   "outputs": [],
   "source": []
  }
 ],
 "metadata": {
  "kernelspec": {
   "display_name": "Python 2",
   "language": "python",
   "name": "python2"
  },
  "language_info": {
   "codemirror_mode": {
    "name": "ipython",
    "version": 2
   },
   "file_extension": ".py",
   "mimetype": "text/x-python",
   "name": "python",
   "nbconvert_exporter": "python",
   "pygments_lexer": "ipython2",
   "version": "2.7.17"
  }
 },
 "nbformat": 4,
 "nbformat_minor": 2
}

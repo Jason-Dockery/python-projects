{
 "cells": [
  {
   "cell_type": "code",
   "execution_count": 2,
   "metadata": {},
   "outputs": [
    {
     "name": "stdout",
     "output_type": "stream",
     "text": [
      "Please enter your method of cooking: fry pan\n",
      "You should cook your chicken nuggets for 10 minutes.\n"
     ]
    }
   ],
   "source": [
    "# Question 1\n",
    "\n",
    "cook = input(\"Please enter your method of cooking: \")\n",
    "if cook == \"microwave\":\n",
    "    print(\"You should cook your chicken nuggets for 3 minutes.\")\n",
    "elif cook == \"oven\":\n",
    "    print(\"You should cook your chicken nuggets for 15 minutes.\")\n",
    "elif cook == \"fry pan\":\n",
    "    print(\"You should cook your chicken nuggets for 10 minutes.\")\n",
    "else: print(\"Invalid input!\")\n"
   ]
  },
  {
   "cell_type": "code",
   "execution_count": 8,
   "metadata": {},
   "outputs": [
    {
     "name": "stdout",
     "output_type": "stream",
     "text": [
      "Output 1\n",
      "Output 3\n",
      "Output 1\n",
      "Output 2\n",
      "offset\n"
     ]
    }
   ],
   "source": [
    "# Question 2\n",
    "\n",
    "# Previously the loop in the code was indefinite. \n",
    "# Therefore the code was printing statements \"output 1\" & \"output 3\" constantly.\n",
    "# I made the code definite by adding a break in the nest \"if\" loop & set a limit for \n",
    "# the loop conditions\n",
    "\n",
    "i = -6\n",
    "# Code the while loop\n",
    "while i != 2 :\n",
    "    print(\"Output 1\")\n",
    "    i += 6\n",
    "    if i>0 :\n",
    "        print(\"Output 2\")\n",
    "        break;\n",
    "    else : \n",
    "          print(\"Output 3\")    \n",
    "print(\"offset\")\n"
   ]
  },
  {
   "cell_type": "code",
   "execution_count": 18,
   "metadata": {},
   "outputs": [
    {
     "name": "stdout",
     "output_type": "stream",
     "text": [
      "Please enter four numbers: 10 20 30 40\n",
      "The sum is:  100\n",
      "The average is:  25\n"
     ]
    }
   ],
   "source": [
    "# Question 3\n",
    "\n",
    "x = 0\n",
    "\n",
    "num = list(map(int,input(\"Please enter four numbers: \").split(\" \")))\n",
    "\n",
    "for i in num:\n",
    "    x += 1\n",
    "    \n",
    "print(\"The sum is: \", sum(num))\n",
    "\n",
    "f = (e / x)\n",
    "print(\"The average is: \", int(f))"
   ]
  },
  {
   "cell_type": "code",
   "execution_count": 26,
   "metadata": {},
   "outputs": [
    {
     "name": "stdout",
     "output_type": "stream",
     "text": [
      "Please enter your name: X\n",
      "Finished\n"
     ]
    }
   ],
   "source": [
    "# Question 4\n",
    "\n",
    "student_rec = {}\n",
    "\n",
    "lin = True\n",
    "\n",
    "while lin:\n",
    "    stu_name = input(\"Please enter your name: \")\n",
    "    \n",
    "    if stu_name == \"X\":\n",
    "        lin = False\n",
    "        break\n",
    "    \n",
    "    stu_gpa = int(input(\"Please enter your GPA: \"))\n",
    "    \n",
    "    #elif stu_gpa == \"X\":\n",
    "       # lin = False\n",
    "      \n",
    "    student_rec[stu_name] = stu_gpa\n",
    "\n",
    "    for stu_gpa in student_rec.items():\n",
    "        x += 1\n",
    "    \n",
    "    avg = (sum(student_rec[stu_gpa]) / x)\n",
    "\n",
    "    print(\"The average GPA is: \", avg)\n",
    "print(\"Finished\")"
   ]
  },
  {
   "cell_type": "code",
   "execution_count": 31,
   "metadata": {},
   "outputs": [
    {
     "ename": "KeyboardInterrupt",
     "evalue": "Interrupted by user",
     "output_type": "error",
     "traceback": [
      "\u001b[1;31m---------------------------------------------------------------------------\u001b[0m",
      "\u001b[1;31mKeyboardInterrupt\u001b[0m                         Traceback (most recent call last)",
      "\u001b[1;32m<ipython-input-31-18815199c768>\u001b[0m in \u001b[0;36m<module>\u001b[1;34m\u001b[0m\n\u001b[0;32m      5\u001b[0m \u001b[0mx\u001b[0m \u001b[1;33m=\u001b[0m \u001b[1;36m0\u001b[0m\u001b[1;33m\u001b[0m\u001b[1;33m\u001b[0m\u001b[0m\n\u001b[0;32m      6\u001b[0m \u001b[1;33m\u001b[0m\u001b[0m\n\u001b[1;32m----> 7\u001b[1;33m \u001b[0mlst\u001b[0m \u001b[1;33m=\u001b[0m \u001b[0minput\u001b[0m\u001b[1;33m(\u001b[0m\u001b[1;34m\"Please enter a sentence: \"\u001b[0m\u001b[1;33m)\u001b[0m\u001b[1;33m\u001b[0m\u001b[1;33m\u001b[0m\u001b[0m\n\u001b[0m\u001b[0;32m      8\u001b[0m \u001b[1;33m\u001b[0m\u001b[0m\n\u001b[0;32m      9\u001b[0m \u001b[0mword\u001b[0m \u001b[1;33m=\u001b[0m \u001b[0msen\u001b[0m\u001b[1;33m.\u001b[0m\u001b[0mappend\u001b[0m\u001b[1;33m(\u001b[0m\u001b[0mlst\u001b[0m\u001b[1;33m)\u001b[0m\u001b[1;33m\u001b[0m\u001b[1;33m\u001b[0m\u001b[0m\n",
      "\u001b[1;32mC:\\ProgramData\\Anaconda3\\lib\\site-packages\\ipykernel\\kernelbase.py\u001b[0m in \u001b[0;36mraw_input\u001b[1;34m(self, prompt)\u001b[0m\n\u001b[0;32m    858\u001b[0m                 \u001b[1;34m\"raw_input was called, but this frontend does not support input requests.\"\u001b[0m\u001b[1;33m\u001b[0m\u001b[1;33m\u001b[0m\u001b[0m\n\u001b[0;32m    859\u001b[0m             )\n\u001b[1;32m--> 860\u001b[1;33m         return self._input_request(str(prompt),\n\u001b[0m\u001b[0;32m    861\u001b[0m             \u001b[0mself\u001b[0m\u001b[1;33m.\u001b[0m\u001b[0m_parent_ident\u001b[0m\u001b[1;33m,\u001b[0m\u001b[1;33m\u001b[0m\u001b[1;33m\u001b[0m\u001b[0m\n\u001b[0;32m    862\u001b[0m             \u001b[0mself\u001b[0m\u001b[1;33m.\u001b[0m\u001b[0m_parent_header\u001b[0m\u001b[1;33m,\u001b[0m\u001b[1;33m\u001b[0m\u001b[1;33m\u001b[0m\u001b[0m\n",
      "\u001b[1;32mC:\\ProgramData\\Anaconda3\\lib\\site-packages\\ipykernel\\kernelbase.py\u001b[0m in \u001b[0;36m_input_request\u001b[1;34m(self, prompt, ident, parent, password)\u001b[0m\n\u001b[0;32m    902\u001b[0m             \u001b[1;32mexcept\u001b[0m \u001b[0mKeyboardInterrupt\u001b[0m\u001b[1;33m:\u001b[0m\u001b[1;33m\u001b[0m\u001b[1;33m\u001b[0m\u001b[0m\n\u001b[0;32m    903\u001b[0m                 \u001b[1;31m# re-raise KeyboardInterrupt, to truncate traceback\u001b[0m\u001b[1;33m\u001b[0m\u001b[1;33m\u001b[0m\u001b[1;33m\u001b[0m\u001b[0m\n\u001b[1;32m--> 904\u001b[1;33m                 \u001b[1;32mraise\u001b[0m \u001b[0mKeyboardInterrupt\u001b[0m\u001b[1;33m(\u001b[0m\u001b[1;34m\"Interrupted by user\"\u001b[0m\u001b[1;33m)\u001b[0m \u001b[1;32mfrom\u001b[0m \u001b[1;32mNone\u001b[0m\u001b[1;33m\u001b[0m\u001b[1;33m\u001b[0m\u001b[0m\n\u001b[0m\u001b[0;32m    905\u001b[0m             \u001b[1;32mexcept\u001b[0m \u001b[0mException\u001b[0m \u001b[1;32mas\u001b[0m \u001b[0me\u001b[0m\u001b[1;33m:\u001b[0m\u001b[1;33m\u001b[0m\u001b[1;33m\u001b[0m\u001b[0m\n\u001b[0;32m    906\u001b[0m                 \u001b[0mself\u001b[0m\u001b[1;33m.\u001b[0m\u001b[0mlog\u001b[0m\u001b[1;33m.\u001b[0m\u001b[0mwarning\u001b[0m\u001b[1;33m(\u001b[0m\u001b[1;34m\"Invalid Message:\"\u001b[0m\u001b[1;33m,\u001b[0m \u001b[0mexc_info\u001b[0m\u001b[1;33m=\u001b[0m\u001b[1;32mTrue\u001b[0m\u001b[1;33m)\u001b[0m\u001b[1;33m\u001b[0m\u001b[1;33m\u001b[0m\u001b[0m\n",
      "\u001b[1;31mKeyboardInterrupt\u001b[0m: Interrupted by user"
     ]
    }
   ],
   "source": [
    "# Question 5\n",
    "\n",
    "k = -1\n",
    "sen = []\n",
    "x = 0\n",
    "\n",
    "lst = input(\"Please enter a sentence: \")\n",
    "\n",
    "word = sen.append(lst)\n",
    "\n",
    "for i in str(sen[:] == sen [:]):\n",
    "    x += 1\n",
    "    n = i\n",
    "\n",
    "print(\"The most frequent word is: \", n)\n",
    "print(\"The frequency is: \", x)"
   ]
  },
  {
   "cell_type": "code",
   "execution_count": null,
   "metadata": {},
   "outputs": [],
   "source": [
    "# Question 6\n",
    "\n",
    "import pandas as pd \n",
    "\n",
    "Name = [\"Bob\", \"Bob\", \"Jessica\", \"Jessica\", \"Jessica\", \"Mary\", \"John\", \"John\"]\n",
    "Product = [\"Apple\", \"Banana\", \"Orange\", \"Banana\", \"Tomato\", \"Banana\", \"Apple\", \"Grape\"]\n",
    "Amount = [1,2,3,4,3,2,3,1]\n",
    "\n",
    "df"
   ]
  }
 ],
 "metadata": {
  "kernelspec": {
   "display_name": "Python 3",
   "language": "python",
   "name": "python3"
  },
  "language_info": {
   "codemirror_mode": {
    "name": "ipython",
    "version": 3
   },
   "file_extension": ".py",
   "mimetype": "text/x-python",
   "name": "python",
   "nbconvert_exporter": "python",
   "pygments_lexer": "ipython3",
   "version": "3.8.3"
  }
 },
 "nbformat": 4,
 "nbformat_minor": 4
}

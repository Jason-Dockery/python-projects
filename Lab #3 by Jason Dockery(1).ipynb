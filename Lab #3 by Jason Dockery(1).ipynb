{
 "cells": [
  {
   "cell_type": "code",
   "execution_count": 3,
   "metadata": {},
   "outputs": [
    {
     "name": "stdout",
     "output_type": "stream",
     "text": [
      "what should be the the value of x? x=\t200\n",
      "all done\n"
     ]
    }
   ],
   "source": [
    "x=input(\"what should be the the value of x? x=\\t\")\n",
    "if x<100:\n",
    "    print(\"x<100\")\n",
    "elif x>100 and x<150:\n",
    "    print(\"x>100, x<150\")\n",
    "else: print (\"all done\")"
   ]
  },
  {
   "cell_type": "code",
   "execution_count": 7,
   "metadata": {},
   "outputs": [
    {
     "name": "stdout",
     "output_type": "stream",
     "text": [
      "what should be the the value of x? x=\t2\n",
      "('The value of x:', 2, 'is even')\n"
     ]
    }
   ],
   "source": [
    "x=input(\"what should be the the value of x? x=\\t\")\n",
    "if x%2==0:\n",
    "    print (\"The value of x:\",x ,\"is even\")\n",
    "else: print (\"The value of x:\",x ,\"is odd\")"
   ]
  },
  {
   "cell_type": "code",
   "execution_count": 10,
   "metadata": {},
   "outputs": [
    {
     "name": "stdout",
     "output_type": "stream",
     "text": [
      "what should be the the value of x? x=\t3\n",
      "what should be the the value of y? y=\t3\n",
      "x and y must be equal\n"
     ]
    }
   ],
   "source": [
    "x=input(\"what should be the the value of x? x=\\t\")\n",
    "y=input(\"what should be the the value of y? y=\\t\")\n",
    "if x<y:\n",
    "    print(\"x is less than y\")\n",
    "elif x>y:\n",
    "    print(\"x is greater than y\")\n",
    "else: print(\"x and y must be equal\")"
   ]
  },
  {
   "cell_type": "code",
   "execution_count": 17,
   "metadata": {},
   "outputs": [
    {
     "name": "stdout",
     "output_type": "stream",
     "text": [
      "Provide a value for the time of day between 10-22. Your value:\t40\n",
      "Good Night!\n"
     ]
    }
   ],
   "source": [
    "value=input(\"Provide a value for the time of day between 10-22. Your value:\\t\")\n",
    "if value<10:\n",
    "    print(\"Good Morning!\")\n",
    "elif 10<=value<12:\n",
    "    print(\"Lunchtime is soon!\")\n",
    "elif 12<=value<18:\n",
    "    print(\"Good Day!\")\n",
    "elif 18<=value<22:\n",
    "    print(\"Good Evening!\")\n",
    "else: print (\"Good Night!\")"
   ]
  },
  {
   "cell_type": "code",
   "execution_count": 68,
   "metadata": {},
   "outputs": [
    {
     "name": "stdout",
     "output_type": "stream",
     "text": [
      "Please select your year:(freshman, sophomore, junior, senior)\n",
      "senior\n",
      "How many course have you taken so far?\n",
      "11\n",
      "Sorry, you still need more courses.\n"
     ]
    }
   ],
   "source": [
    "s=raw_input(\"Please select your year:(freshman, sophomore, junior, senior)\\n\")\n",
    "n=int(input(\"How many course have you taken so far?\\n\"))\n",
    "\n",
    "if s==\"freshman\":\n",
    "    if n<4:\n",
    "        print(\"Take more courses in your sophomore year.\")\n",
    "    else: print(\"You have taken enough courses for the year.\")\n",
    "\n",
    "elif s==\"sophomore\":\n",
    "    print(\"You have taken\",n,\"courses.\")\n",
    "\n",
    "elif s==\"junior\" and n<12:\n",
    "        print(\"You have taken less than 12 courses.\")\n",
    "\n",
    "elif s==\"senior\": \n",
    "    if n>=16:\n",
    "        print(\"You are good to graduate.\")\n",
    "    else: print(\"Sorry, you still need more courses.\")\n",
    "\n",
    "else: print(\"The year you entered is incorrect.\")"
   ]
  }
 ],
 "metadata": {
  "kernelspec": {
   "display_name": "Python 3",
   "language": "python",
   "name": "python3"
  },
  "language_info": {
   "codemirror_mode": {
    "name": "ipython",
    "version": 2
   },
   "file_extension": ".py",
   "mimetype": "text/x-python",
   "name": "python",
   "nbconvert_exporter": "python",
   "pygments_lexer": "ipython2",
   "version": "2.7.17"
  }
 },
 "nbformat": 4,
 "nbformat_minor": 2
}

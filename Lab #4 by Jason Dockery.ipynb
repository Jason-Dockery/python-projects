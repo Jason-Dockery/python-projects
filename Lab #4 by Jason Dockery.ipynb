{
 "cells": [
  {
   "cell_type": "code",
   "execution_count": 32,
   "metadata": {},
   "outputs": [
    {
     "name": "stdout",
     "output_type": "stream",
     "text": [
      "numbers in one line\n",
      "1 2 3 4 5 6 7 8 9 10 "
     ]
    }
   ],
   "source": [
    "#) Question #1\n",
    "\n",
    "from __future__ import print_function\n",
    "\n",
    "print(\"numbers in one line\")\n",
    "\n",
    "for i in range(1,11):\n",
    "     print(i, end = \" \")"
   ]
  },
  {
   "cell_type": "code",
   "execution_count": 31,
   "metadata": {},
   "outputs": [
    {
     "name": "stdout",
     "output_type": "stream",
     "text": [
      "*  *  *  *  *  *  *  *  *  *  \n",
      "   *  *  *  *  *  *  *  *  *  \n",
      "      *  *  *  *  *  *  *  *  \n",
      "         *  *  *  *  *  *  *  \n",
      "            *  *  *  *  *  *  \n",
      "               *  *  *  *  *  \n",
      "                  *  *  *  *  \n",
      "                     *  *  *  \n",
      "                        *  *  \n",
      "                           *  \n"
     ]
    }
   ],
   "source": [
    "#) Question #2\n",
    "\n",
    "n = 10\n",
    "\n",
    "for i in range(1, n + 1):\n",
    "    for j in range(1, n + 1):\n",
    "        if(j < i):\n",
    "            print(\" \", end = \"  \")\n",
    "        else:\n",
    "            print(\"*\", end = \"  \")\n",
    "    print()"
   ]
  },
  {
   "cell_type": "code",
   "execution_count": 53,
   "metadata": {},
   "outputs": [
    {
     "name": "stdout",
     "output_type": "stream",
     "text": [
      "                  * \n",
      "                * * * \n",
      "              * * * * * \n",
      "            * * * * * * * \n",
      "          * * * * * * * * * \n",
      "        * * * * * * * * * * * \n",
      "      * * * * * * * * * * * * * \n",
      "    * * * * * * * * * * * * * * * \n",
      "  * * * * * * * * * * * * * * * * * \n",
      "* * * * * * * * * * * * * * * * * * * \n"
     ]
    }
   ],
   "source": [
    "#) Question #3\n",
    "\n",
    "i = 0\n",
    "n = 10\n",
    "\n",
    "for dot in range(1, n + 1):\n",
    "    for empty in range(1, (n - dot) + 1):\n",
    "        print(end = \"  \")\n",
    "    while i != (2 * dot - 1):\n",
    "        print(\"* \", end = \"\")\n",
    "        i += 1\n",
    "    i = 0\n",
    "    print()"
   ]
  },
  {
   "cell_type": "code",
   "execution_count": 56,
   "metadata": {},
   "outputs": [
    {
     "name": "stdout",
     "output_type": "stream",
     "text": [
      "        *          \n",
      "      * * *        \n",
      "    * * * * *      \n",
      "  * * * * * * *    \n",
      "* * * * * * * * *  \n",
      "* * * * * * * * *  \n",
      "  * * * * * * *    \n",
      "    * * * * *      \n",
      "      * * *        \n",
      "        *          \n"
     ]
    }
   ],
   "source": [
    "#) Question #4\n",
    "\n",
    "row = 5\n",
    "column = 2 * row - 1\n",
    "i = 0 \n",
    "while i < row:\n",
    "    j = 0\n",
    "    while j < column:\n",
    "        if((column // 2) - i <= j <= (column // 2) + i):\n",
    "            print(\"*\", end = \" \")\n",
    "        else:\n",
    "            print(\" \", end = \" \")\n",
    "        \n",
    "        j += 1\n",
    "    print(\" \")\n",
    "    i += 1\n",
    "    \n",
    "i = 0\n",
    "while i < row:\n",
    "    j = 0\n",
    "    while j < column:\n",
    "        if( i <= j <= column - 1 - i):\n",
    "            print(\"*\", end = \" \")\n",
    "        else:\n",
    "            print(\" \", end = \" \")\n",
    "        \n",
    "        j += 1\n",
    "    print(\" \")\n",
    "    i += 1"
   ]
  },
  {
   "cell_type": "code",
   "execution_count": 1,
   "metadata": {},
   "outputs": [],
   "source": [
    "#) Question #5\n",
    "\n",
    "from PIL import Image\n",
    "\n",
    "size = 16\n",
    "\n",
    "pic = Image.new(\"RGB\", (size,size), \"white\")\n",
    "dot = pic.load()\n",
    "\n",
    "blk_rw_2 = []\n",
    "for i in range (pic.size[0]):\n",
    "    if i % 2 == 0:\n",
    "        blk_rw_2.append(i)\n",
    "        \n",
    "blk_rw_1 = [i-1 for i in blk_rw_2 if i > 0] \n",
    "if pic.size[0] % 2 == 0: \n",
    "    blk_rw_1.append(pic.size[0] - 1)\n",
    "    \n",
    "for i in blk_rw_1 :\n",
    "    for a in range (0, size, 2):\n",
    "        dot[i,a] = (0,0,0)\n",
    "        \n",
    "for n in blk_rw_2:\n",
    "    for b in range (1, size + 1, 2):\n",
    "        dot[n,b] = (0,0,0)\n",
    "        \n",
    "pic.show()"
   ]
  },
  {
   "cell_type": "code",
   "execution_count": 14,
   "metadata": {},
   "outputs": [
    {
     "name": "stdout",
     "output_type": "stream",
     "text": [
      "Enter any number: 500\n",
      "\n",
      " Try a smaller number \n",
      "\n",
      "Enter any number: 300\n",
      "\n",
      " Try a smaller number \n",
      "\n",
      "Enter any number: 200\n",
      "\n",
      " Try a smaller number \n",
      "\n",
      "Enter any number: 100\n",
      "\n",
      " Try a smaller number \n",
      "\n",
      "Enter any number: 75\n",
      "\n",
      " Try a bigger number \n",
      "\n",
      "Enter any number: 86\n",
      "\n",
      " Try a bigger number \n",
      "\n",
      "Enter any number: 89\n",
      "\n",
      " Try a bigger number \n",
      "\n",
      "Enter any number: 90\n",
      "\n",
      " Try a bigger number \n",
      "\n",
      "Enter any number: 95\n",
      "\n",
      " Try a smaller number \n",
      "\n",
      "Enter any number: 92\n",
      "Wonderful Job!\n",
      "(92, 92)\n"
     ]
    }
   ],
   "source": [
    "#) Question #6\n",
    "\n",
    "import random as rd\n",
    "\n",
    "z = 0\n",
    "\n",
    "x = rd.randint(0, 1000)\n",
    "\n",
    "while z != 21:\n",
    "   \n",
    "    y = int(input(\"Enter any number: \"))\n",
    "    \n",
    "    if x < y:\n",
    "        print(\"\\n Try a smaller number \\n\")\n",
    "        z += 1\n",
    "\n",
    "    elif x > y:\n",
    "        print(\"\\n Try a bigger number \\n\")\n",
    "        z += 1\n",
    "\n",
    "    elif x == y and z <= 5:\n",
    "        print(\"Bingo!\")\n",
    "        z = 21\n",
    "            \n",
    "    elif x == y and z <= 10:\n",
    "        print(\"Wonderful Job!\")\n",
    "        z = 21\n",
    "            \n",
    "    elif x == y and z <= 20:\n",
    "        print(\"Good Job!\")\n",
    "        z = 21\n",
    "        \n",
    "    else:\n",
    "        print(\"Try again next time.\")\n",
    "        z = 21\n",
    "               \n",
    "print(x, y)"
   ]
  },
  {
   "cell_type": "code",
   "execution_count": 19,
   "metadata": {},
   "outputs": [
    {
     "name": "stdout",
     "output_type": "stream",
     "text": [
      "(1452, <type 'int'>)\n",
      "(11.23, <type 'float'>)\n",
      "((1+2j), <type 'complex'>)\n",
      "(True, <type 'bool'>)\n",
      "('UIC', <type 'str'>)\n",
      "((0, 1), <type 'tuple'>)\n",
      "([5, 12], <type 'list'>)\n",
      "({'section': 'A', 'class': 496}, <type 'dict'>)\n"
     ]
    }
   ],
   "source": [
    "#) Additional Question #1\n",
    "\n",
    "datalist = [1452, 11.23, 1 + 2j, True, \"UIC\", (0, 1), [5, 12], {\"class\" : 496, \"section\" : 'A'}]\n",
    "\n",
    "for i in datalist:\n",
    "    print (i, type(i))"
   ]
  },
  {
   "cell_type": "code",
   "execution_count": 30,
   "metadata": {},
   "outputs": [
    {
     "name": "stdout",
     "output_type": "stream",
     "text": [
      "\t\tCalculator program starting...\n",
      "\n",
      "Select an operation: 1.Add 2.Subtract 3.Mutiply 4.Divide\n",
      "\n",
      "Enter your choice of (1 / 2 / 3 / 4): 1\n",
      "Enter your first number: 20\n",
      "Enter your second number: 2\n",
      "22\n",
      "Would you like to use the Calulator again?: Y\n",
      "\t\tCalculator program starting...\n",
      "\n",
      "Select an operation: 1.Add 2.Subtract 3.Mutiply 4.Divide\n",
      "\n",
      "Enter your choice of (1 / 2 / 3 / 4): 2\n",
      "Enter your first number: 2\n",
      "Enter your second number: 2\n",
      "0\n"
     ]
    }
   ],
   "source": [
    "#) Additional Question #2\n",
    "\n",
    "def calculate():\n",
    "\n",
    "    n = 0\n",
    "\n",
    "    print(\"\\t\\tCalculator program starting...\")\n",
    "\n",
    "    print(\"\\nSelect an operation: 1.Add 2.Subtract 3.Mutiply 4.Divide\")\n",
    "\n",
    "    z = input(\"\\nEnter your choice of (1 / 2 / 3 / 4): \")\n",
    "\n",
    "    x = input(\"Enter your first number: \")\n",
    "    y = input(\"Enter your second number: \")\n",
    "\n",
    "    while n != 1:\n",
    "\n",
    "        if z == 1:\n",
    "            c = x+y\n",
    "            n += 1\n",
    "\n",
    "        elif z == 2:\n",
    "            c = x-y\n",
    "            n += 1\n",
    "\n",
    "        elif z == 3:\n",
    "            c = x*y\n",
    "            n += 1\n",
    "\n",
    "        elif z == 4:\n",
    "            c = x/y\n",
    "            n += 1\n",
    "\n",
    "        else: \n",
    "            print(\"Error: Wrong number entered. Please choose from the choices provided above.\")\n",
    "            n += 1\n",
    "\n",
    "    print(c)        \n",
    "\n",
    "calculate()   \n",
    "    \n",
    "d = input(\"Would you like to use the Calulator again?: \\n\")\n",
    "        \n",
    "if d == \"Yes\" or \"Y\":\n",
    "    calculate()\n",
    "        \n",
    "elif d == \"No\" or \"N\":\n",
    "    print(\"Calculator program ending...\")\n",
    "    \n",
    "else:\n",
    "    print(\"Error, neither yes or no entered.\")\n",
    "            "
   ]
  },
  {
   "cell_type": "code",
   "execution_count": 37,
   "metadata": {},
   "outputs": [
    {
     "ename": "SyntaxError",
     "evalue": "invalid syntax (<ipython-input-37-30fcfdda7c17>, line 10)",
     "output_type": "error",
     "traceback": [
      "\u001b[0;36m  File \u001b[0;32m\"<ipython-input-37-30fcfdda7c17>\"\u001b[0;36m, line \u001b[0;32m10\u001b[0m\n\u001b[0;31m    print(\"*\", end= \" \")\u001b[0m\n\u001b[0m                  ^\u001b[0m\n\u001b[0;31mSyntaxError\u001b[0m\u001b[0;31m:\u001b[0m invalid syntax\n"
     ]
    }
   ],
   "source": [
    "#) Additional Question #3\n",
    "\n",
    "n = input(\"Enter an number between 4 - 8: \")\n",
    "column = 2 * row - 1\n",
    "i = 0 \n",
    "while i < row:\n",
    "    j = 0\n",
    "    while j < column:\n",
    "        if((column // 2) - i <= j <= (column // 2) + i):\n",
    "            print(\"*\", end= \" \")\n",
    "        else:\n",
    "            print(\" \", end = \" \")\n",
    "        \n",
    "        j += 1\n",
    "    print(\" \")\n",
    "    i += 1"
   ]
  }
 ],
 "metadata": {
  "kernelspec": {
   "display_name": "Python 3",
   "language": "python",
   "name": "python3"
  },
  "language_info": {
   "codemirror_mode": {
    "name": "ipython",
    "version": 2
   },
   "file_extension": ".py",
   "mimetype": "text/x-python",
   "name": "python",
   "nbconvert_exporter": "python",
   "pygments_lexer": "ipython2",
   "version": "2.7.17"
  }
 },
 "nbformat": 4,
 "nbformat_minor": 2
}

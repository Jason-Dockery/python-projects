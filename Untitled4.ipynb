{
 "cells": [
  {
   "cell_type": "code",
   "execution_count": 12,
   "metadata": {},
   "outputs": [
    {
     "name": "stdout",
     "output_type": "stream",
     "text": [
      "('After rolling the dice', 10000, 'times:\\n\\n')\n",
      "('Side 1 is rolled:', 1599, 'times\\t Side 2 is rolled:', 1672, 'times\\n')\n",
      "('Side 3 is rolled:', 1709, 'times\\t Side 4 is rolled:', 1693, 'times\\n')\n",
      "('Side 5 is rolled:', 1642, 'times\\t Side 6 is rolled:', 1685, 'times')\n"
     ]
    }
   ],
   "source": [
    "#1) Dice probability distribution simulation\n",
    "\n",
    "import random\n",
    "\n",
    "num_roll =[]\n",
    "num_of_rolls =0\n",
    "\n",
    "def sim_dice():\n",
    "    roll =random.randint(1,6)\n",
    "    return roll\n",
    "\n",
    "for i in range(0,10000):\n",
    "    number =sim_dice()\n",
    "    num_roll.append(number)\n",
    "    num_of_rolls+= 1\n",
    "    \n",
    "count =[num_roll.count(i) for i in range(1,7)]\n",
    "\n",
    "print('After rolling the dice',num_of_rolls,'times:\\n\\n')\n",
    "print(\"Side 1 is rolled:\", count[0],\"times\\t Side 2 is rolled:\", count[1],\"times\\n\")\n",
    "print(\"Side 3 is rolled:\", count[2],\"times\\t Side 4 is rolled:\", count[3],\"times\\n\")\n",
    "print(\"Side 5 is rolled:\", count[4],\"times\\t Side 6 is rolled:\", count[5],\"times\")"
   ]
  },
  {
   "cell_type": "code",
   "execution_count": 13,
   "metadata": {},
   "outputs": [
    {
     "name": "stdout",
     "output_type": "stream",
     "text": [
      "2.7.17 (default, Nov  7 2019, 10:07:09) \n",
      "[GCC 7.4.0]\n"
     ]
    }
   ],
   "source": [
    "import sys\n",
    "\n",
    "print(sys.version)"
   ]
  },
  {
   "cell_type": "code",
   "execution_count": null,
   "metadata": {},
   "outputs": [],
   "source": []
  }
 ],
 "metadata": {
  "kernelspec": {
   "display_name": "Python 3",
   "language": "python",
   "name": "python3"
  },
  "language_info": {
   "codemirror_mode": {
    "name": "ipython",
    "version": 2
   },
   "file_extension": ".py",
   "mimetype": "text/x-python",
   "name": "python",
   "nbconvert_exporter": "python",
   "pygments_lexer": "ipython2",
   "version": "2.7.17"
  }
 },
 "nbformat": 4,
 "nbformat_minor": 2
}

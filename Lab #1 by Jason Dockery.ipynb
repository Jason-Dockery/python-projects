{
 "cells": [
  {
   "cell_type": "code",
   "execution_count": 34,
   "metadata": {},
   "outputs": [
    {
     "name": "stdout",
     "output_type": "stream",
     "text": [
      "Hello world!\n",
      "\n",
      "Hello,'world!\n",
      "Helloworld\n",
      "Hello\n",
      "world\n"
     ]
    }
   ],
   "source": [
    "str0=\"Hello world!\"\n",
    "print(str0)\n",
    "print(str0[:0])\n",
    "print(str0[:5])+(\",\")+(\"'\")+(str0[6:12])\n",
    "print(str0[:5])+(str0[6:11])\n",
    "print(str0[:5])\n",
    "print(str0[6:11])"
   ]
  },
  {
   "cell_type": "code",
   "execution_count": 39,
   "metadata": {},
   "outputs": [
    {
     "name": "stdout",
     "output_type": "stream",
     "text": [
      "('The sum of x and y =', 8)\n",
      "('The division of x from y =', 0)\n",
      "<type 'str'>\n"
     ]
    },
    {
     "ename": "TypeError",
     "evalue": "unsupported operand type(s) for +: 'int' and 'str'",
     "output_type": "error",
     "traceback": [
      "\u001b[0;31m---------------------------------------------------------------------------\u001b[0m",
      "\u001b[0;31mTypeError\u001b[0m                                 Traceback (most recent call last)",
      "\u001b[0;32m<ipython-input-39-f7079c6537d2>\u001b[0m in \u001b[0;36m<module>\u001b[0;34m()\u001b[0m\n\u001b[1;32m      6\u001b[0m \u001b[0;32mprint\u001b[0m\u001b[0;34m(\u001b[0m\u001b[0;34m\"The division of x from y =\"\u001b[0m\u001b[0;34m,\u001b[0m\u001b[0mx\u001b[0m\u001b[0;34m//\u001b[0m\u001b[0my\u001b[0m\u001b[0;34m)\u001b[0m\u001b[0;34m\u001b[0m\u001b[0m\n\u001b[1;32m      7\u001b[0m \u001b[0;32mprint\u001b[0m\u001b[0;34m(\u001b[0m\u001b[0mtype\u001b[0m\u001b[0;34m(\u001b[0m\u001b[0mm\u001b[0m\u001b[0;34m)\u001b[0m\u001b[0;34m)\u001b[0m\u001b[0;34m\u001b[0m\u001b[0m\n\u001b[0;32m----> 8\u001b[0;31m \u001b[0;32mprint\u001b[0m\u001b[0;34m(\u001b[0m\u001b[0;34m\"The sum of y and m\"\u001b[0m\u001b[0;34m,\u001b[0m\u001b[0mx\u001b[0m\u001b[0;34m+\u001b[0m\u001b[0mm\u001b[0m\u001b[0;34m)\u001b[0m\u001b[0;34m\u001b[0m\u001b[0m\n\u001b[0m",
      "\u001b[0;31mTypeError\u001b[0m: unsupported operand type(s) for +: 'int' and 'str'"
     ]
    }
   ],
   "source": [
    "x=3\n",
    "y=5\n",
    "z=2.5\n",
    "m='2.7'\n",
    "print(\"The sum of x and y =\",x+y)\n",
    "print(\"The division of x from y =\",x//y)\n",
    "print(type(m))\n",
    "print(\"The sum of y and m\",x+m)"
   ]
  },
  {
   "cell_type": "code",
   "execution_count": 42,
   "metadata": {},
   "outputs": [
    {
     "name": "stdout",
     "output_type": "stream",
     "text": [
      "What is the value of x?3\n",
      "What is the value of y?1\n",
      "('The value of x =', 3)\n",
      "('The value of y =', 1)\n",
      "('The sum of x and y =', 4)\n",
      "('The division of x and y =', 3)\n"
     ]
    }
   ],
   "source": [
    "x=input(\"What is the value of x?\")\n",
    "y=input(\"What is the value of y?\")\n",
    "print(\"The value of x =\",x)\n",
    "print(\"The value of y =\",y)\n",
    "print(\"The sum of x and y =\",x+y)\n",
    "print(\"The division of x and y =\",x//y)"
   ]
  },
  {
   "cell_type": "code",
   "execution_count": 52,
   "metadata": {},
   "outputs": [
    {
     "name": "stdout",
     "output_type": "stream",
     "text": [
      "('The sum of 20 and 10 equals:', 30)\n",
      "('The division of 7 by 3 equals:', 2.3333333333333335)\n",
      "('The division of 7 by 3 equals:', 2.0)\n",
      "('The division of 7 by 3 equals:', 1.0)\n"
     ]
    }
   ],
   "source": [
    "a=20\n",
    "b=10\n",
    "c=7.0\n",
    "d=3.0\n",
    "print(\"The sum of 20 and 10 equals:\", a+b)\n",
    "print(\"The division of 7 by 3 equals:\", c/d)\n",
    "print(\"The division of 7 by 3 equals:\", c//d)\n",
    "print(\"The division of 7 by 3 equals:\", c%d)"
   ]
  },
  {
   "cell_type": "code",
   "execution_count": 53,
   "metadata": {},
   "outputs": [
    {
     "name": "stdout",
     "output_type": "stream",
     "text": [
      "('The sum of a and b =', 17)\n",
      "('The difference of a and b =', 3)\n",
      "('The mutiple of a and b =', 70)\n",
      "('The exponent of a to the power of b =', 10000000)\n",
      "('The remainder of a and b =', 3)\n",
      "('The floor division of a and b =', 1)\n"
     ]
    }
   ],
   "source": [
    "a=10\n",
    "b=7\n",
    "print(\"The sum of a and b =\",a+b)\n",
    "print(\"The difference of a and b =\",a-b)\n",
    "print(\"The mutiple of a and b =\",a*b)\n",
    "print(\"The exponent of a to the power of b =\",a**b)\n",
    "print(\"The remainder of a and b =\",a%b)\n",
    "print(\"The floor division of a and b =\",a//b)"
   ]
  },
  {
   "cell_type": "code",
   "execution_count": 55,
   "metadata": {},
   "outputs": [
    {
     "name": "stdout",
     "output_type": "stream",
     "text": [
      "('Is a greater than b?:', True)\n",
      "('Is a equal to b?:', False)\n",
      "('Is a not equal to b?:', True)\n"
     ]
    }
   ],
   "source": [
    "print(\"Is a greater than b?:\",a>b)\n",
    "print(\"Is a equal to b?:\",a==b)\n",
    "print(\"Is a not equal to b?:\",a!=b)"
   ]
  },
  {
   "cell_type": "code",
   "execution_count": 61,
   "metadata": {},
   "outputs": [
    {
     "data": {
      "text/plain": [
       "False"
      ]
     },
     "execution_count": 61,
     "metadata": {},
     "output_type": "execute_result"
    }
   ],
   "source": [
    "((a>=b)and(a>5))\n",
    "((a<=b)or(a>5))\n",
    "not a"
   ]
  },
  {
   "cell_type": "code",
   "execution_count": 65,
   "metadata": {},
   "outputs": [
    {
     "data": {
      "text/plain": [
       "True"
      ]
     },
     "execution_count": 65,
     "metadata": {},
     "output_type": "execute_result"
    }
   ],
   "source": [
    "(((a+b)>15)or((a-b)<8))\n",
    "(((a+b)>15)or((a-b)<8)and false)\n",
    "(((a+b)>15)or((a-b)<8)and (not false))"
   ]
  },
  {
   "cell_type": "code",
   "execution_count": 76,
   "metadata": {},
   "outputs": [
    {
     "name": "stdout",
     "output_type": "stream",
     "text": [
      "Enter any year, more than 20 years from now:\t2058\n",
      "I guess will have to wait a couple of more years\n",
      "58\n"
     ]
    }
   ],
   "source": [
    "y=input(\"Enter any year, more than 20 years from now:\\t\")\n",
    "print(\"I guess will have to wait a couple of more years\") \n",
    "print(y%100)"
   ]
  },
  {
   "cell_type": "code",
   "execution_count": null,
   "metadata": {},
   "outputs": [],
   "source": []
  }
 ],
 "metadata": {
  "kernelspec": {
   "display_name": "Python 3",
   "language": "python",
   "name": "python3"
  },
  "language_info": {
   "codemirror_mode": {
    "name": "ipython",
    "version": 2
   },
   "file_extension": ".py",
   "mimetype": "text/x-python",
   "name": "python",
   "nbconvert_exporter": "python",
   "pygments_lexer": "ipython2",
   "version": "2.7.17"
  }
 },
 "nbformat": 4,
 "nbformat_minor": 2
}

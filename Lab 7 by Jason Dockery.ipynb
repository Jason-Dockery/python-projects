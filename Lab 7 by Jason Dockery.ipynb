{
 "cells": [
  {
   "cell_type": "code",
   "execution_count": 34,
   "metadata": {},
   "outputs": [
    {
     "name": "stdout",
     "output_type": "stream",
     "text": [
      "Enter a direction & number:up 5\n",
      "Enter a direction & number:down 3\n",
      "Enter a direction & number:left 3\n",
      "Enter a direction & number:right 2\n",
      "Enter a direction & number:x\n",
      "2\n"
     ]
    }
   ],
   "source": [
    "#1)\n",
    "\n",
    "import math\n",
    "\n",
    "loca = input(\"Enter a direction & number:\")\n",
    "\n",
    "x=0\n",
    "y=0\n",
    "\n",
    "while loca != \"x\":\n",
    "    list0 = loca.split(\" \")\n",
    "    if (list0[0] == \"up\"):\n",
    "        y += int(list0[1])\n",
    "    elif (list0[0] == \"down\"):\n",
    "        y -= int(list0[1])\n",
    "    elif (list0[0] == \"left\"):\n",
    "        x -= int(list0[1])\n",
    "    elif (list0[0])== \"right\":\n",
    "         x += int(list0[1])\n",
    "    loca = input(\"Enter a direction & number:\") \n",
    "       \n",
    "print (int(math.sqrt(x**2+y**2)))"
   ]
  },
  {
   "cell_type": "code",
   "execution_count": 54,
   "metadata": {},
   "outputs": [
    {
     "name": "stdout",
     "output_type": "stream",
     "text": [
      "a b b c\n",
      "('a', ':', 1)\n",
      "('b', ':', 2)\n",
      "('b', ':', 2)\n",
      "('c', ':', 1)\n",
      "x\n"
     ]
    }
   ],
   "source": [
    "#2)\n",
    "\n",
    "lin = input()\n",
    "\n",
    "while lin != \"x\":\n",
    "    lt = lin.split(\" \")\n",
    "    \n",
    "    for i in lt:\n",
    "        print (i,\":\",lt.count(i))\n",
    "        \n",
    "    lin = input()\n",
    "\n"
   ]
  },
  {
   "cell_type": "code",
   "execution_count": null,
   "metadata": {},
   "outputs": [],
   "source": []
  }
 ],
 "metadata": {
  "kernelspec": {
   "display_name": "Python 3",
   "language": "python",
   "name": "python3"
  },
  "language_info": {
   "codemirror_mode": {
    "name": "ipython",
    "version": 2
   },
   "file_extension": ".py",
   "mimetype": "text/x-python",
   "name": "python",
   "nbconvert_exporter": "python",
   "pygments_lexer": "ipython2",
   "version": "2.7.17"
  }
 },
 "nbformat": 4,
 "nbformat_minor": 2
}
